{
 "cells": [
  {
   "cell_type": "code",
   "execution_count": 1,
   "metadata": {},
   "outputs": [],
   "source": [
    "%matplotlib inline\n",
    "import matplotlib.pyplot as plt\n",
    "from data import marshal_data, photometry_data, bran_disc, t_peak_mjd\n",
    "from astropy.time import Time\n",
    "import numpy as np\n",
    "from astropy import constants as const"
   ]
  },
  {
   "cell_type": "code",
   "execution_count": 2,
   "metadata": {},
   "outputs": [
    {
     "name": "stdout",
     "output_type": "stream",
     "text": [
      "          # date         jdobs filter  absmag  magpsf  sigmamagpsf  limmag  \\\n",
      "0    2019 Apr 01  2.458575e+06      r   99.00   99.00        99.00   17.79   \n",
      "1    2019 Apr 01  2.458575e+06      g   99.00   99.00        99.00   17.92   \n",
      "2    2019 Apr 09  2.458583e+06      r  -17.86   18.88         0.14   20.02   \n",
      "3    2019 Apr 09  2.458583e+06      r  -17.86   18.88         0.14   20.02   \n",
      "4    2019 Apr 20  2.458594e+06      r  -18.44   18.30         0.09   19.24   \n",
      "..           ...           ...    ...     ...     ...          ...     ...   \n",
      "142  2019 Oct 10  2.458767e+06   UVW2  -17.58   19.16         0.14   22.09   \n",
      "143  2019 Oct 15  2.458772e+06   UVW2  -17.38   19.36         0.10   22.60   \n",
      "144  2019 Oct 20  2.458777e+06   UVW2  -17.41   19.33         0.13   22.32   \n",
      "145  2019 Oct 30  2.458787e+06   UVW2  -17.39   19.35         0.17   21.87   \n",
      "146  2019 Nov 05  2.458793e+06   UVW2  -16.95   19.79         0.19   22.09   \n",
      "\n",
      "     instrument programid reducedby refsys  issub  isdiffpos         mjd  \n",
      "0       P48+ZTF         1      None   None   True       True  58574.4859  \n",
      "1       P48+ZTF         1      None   None   True       True  58574.5250  \n",
      "2       P48+ZTF         1      None   None   True       True  58582.4648  \n",
      "3       P48+ZTF         1      None   None   True       True  58582.4648  \n",
      "4       P48+ZTF         1      None   None   True       True  58593.4459  \n",
      "..          ...       ...       ...    ...    ...        ...         ...  \n",
      "142  Swift+UVOT      None    sjoert   None  False       True  58766.9900  \n",
      "143  Swift+UVOT      None    sjoert   None  False       True  58771.4400  \n",
      "144  Swift+UVOT      None    sjoert   None  False       True  58776.2800  \n",
      "145  Swift+UVOT      None    sjoert   None  False       True  58786.4900  \n",
      "146  Swift+UVOT        48    sjoert   None  False       True  58792.4100  \n",
      "\n",
      "[147 rows x 14 columns]\n"
     ]
    }
   ],
   "source": [
    "mjds = [Time(x, format=\"jd\").mjd for x in marshal_data[\"jdobs\"]]\n",
    "marshal_data = marshal_data.assign(mjd=mjds)\n",
    "print(marshal_data)"
   ]
  },
  {
   "cell_type": "code",
   "execution_count": 3,
   "metadata": {},
   "outputs": [
    {
     "data": {
      "image/png": "[encoded data removed]",
      "text/plain": [
       "<Figure size 432x288 with 1 Axes>"
      ]
     },
     "metadata": {
      "needs_background": "light"
     },
     "output_type": "display_data"
    }
   ],
   "source": [
    "ztf = marshal_data[marshal_data[\"instrument\"] == \"P48+ZTF\"]\n",
    "det_mask = ztf[\"magpsf\"] < 99.\n",
    "\n",
    "for f in [\"g\", \"r\"]:\n",
    "    \n",
    "    mask = np.logical_and(\n",
    "        det_mask,\n",
    "        ztf[\"filter\"] == f\n",
    "    )\n",
    "\n",
    "    plt.errorbar(ztf[\"mjd\"][mask] - bran_disc.mjd, ztf[\"magpsf\"][mask], yerr=ztf[\"sigmamagpsf\"][mask], fmt=\"o\", color=f)\n",
    "plt.gca().invert_yaxis()"
   ]
  },
  {
   "cell_type": "code",
   "execution_count": 4,
   "metadata": {},
   "outputs": [],
   "source": [
    "def rs(m):\n",
    "    return ((2 * const.G * m)/const.c**2).to(\"cm\")"
   ]
  },
  {
   "cell_type": "code",
   "execution_count": 5,
   "metadata": {},
   "outputs": [
    {
     "data": {
      "text/latex": [
       "$2.9532501 \\times 10^{12} \\; \\mathrm{cm}$"
      ],
      "text/plain": [
       "<Quantity 2.95325008e+12 cm>"
      ]
     },
     "execution_count": 5,
     "metadata": {},
     "output_type": "execute_result"
    }
   ],
   "source": [
    "rs(const.M_sun) * 10 ** 7"
   ]
  },
  {
   "cell_type": "code",
   "execution_count": 6,
   "metadata": {},
   "outputs": [
    {
     "name": "stdout",
     "output_type": "stream",
     "text": [
      "     #day_since_peak   band   flux_Jy       nu_rest           lum  \\\n",
      "147         3.428177  g.ZTF  0.000204  6.665889e+14  1.113742e+43   \n",
      "148        12.934550  g.ZTF  0.000199  6.665889e+14  1.087488e+43   \n",
      "149        23.396710  g.ZTF  0.000184  6.665889e+14  1.006062e+43   \n",
      "150        29.105120  g.ZTF  0.000165  6.665889e+14  9.051168e+42   \n",
      "151        29.121480  g.ZTF  0.000170  6.665889e+14  9.284203e+42   \n",
      "152        31.959380  g.ZTF  0.000158  6.665889e+14  8.627890e+42   \n",
      "153        34.798140  g.ZTF  0.000149  6.665889e+14  8.152759e+42   \n",
      "154        41.475170  g.ZTF  0.000155  6.665889e+14  8.492286e+42   \n",
      "155        44.324300  g.ZTF  0.000124  6.665889e+14  6.802438e+42   \n",
      "156        47.117390  g.ZTF  0.000115  6.665889e+14  6.313419e+42   \n",
      "157        55.706240  g.ZTF  0.000107  6.665889e+14  5.834244e+42   \n",
      "158        55.732120  g.ZTF  0.000105  6.665889e+14  5.755786e+42   \n",
      "159        58.594750  g.ZTF  0.000099  6.665889e+14  5.409843e+42   \n",
      "160        61.431890  g.ZTF  0.000093  6.665889e+14  5.097821e+42   \n",
      "161        67.125190  g.ZTF  0.000085  6.665889e+14  4.669438e+42   \n",
      "162        72.849510  g.ZTF  0.000084  6.665889e+14  4.589703e+42   \n",
      "163        80.341510  g.ZTF  0.000077  6.665889e+14  4.236280e+42   \n",
      "164        83.204150  g.ZTF  0.000077  6.665889e+14  4.221479e+42   \n",
      "165        84.229830  g.ZTF  0.000070  6.665889e+14  3.831286e+42   \n",
      "166        84.233260  g.ZTF  0.000071  6.665889e+14  3.876722e+42   \n",
      "167        84.236680  g.ZTF  0.000071  6.665889e+14  3.897487e+42   \n",
      "168        84.280160  g.ZTF  0.000074  6.665889e+14  4.046361e+42   \n",
      "169        86.058030  g.ZTF  0.000069  6.665889e+14  3.787081e+42   \n",
      "170       100.433700  g.ZTF  0.000053  6.665889e+14  2.892975e+42   \n",
      "171       103.061700  g.ZTF  0.000057  6.665889e+14  3.093888e+42   \n",
      "205       -20.358730  r.ZTF  0.000089  4.961606e+14  3.254859e+42   \n",
      "206        -9.912481  r.ZTF  0.000151  4.961606e+14  5.548457e+42   \n",
      "207        -2.260464  r.ZTF  0.000195  4.961606e+14  7.148456e+42   \n",
      "208         3.443062  r.ZTF  0.000207  4.961606e+14  7.579704e+42   \n",
      "209        23.342090  r.ZTF  0.000198  4.961606e+14  7.263940e+42   \n",
      "210        29.068490  r.ZTF  0.000166  4.961606e+14  6.098349e+42   \n",
      "211        31.922280  r.ZTF  0.000176  4.961606e+14  6.439501e+42   \n",
      "212        34.814780  r.ZTF  0.000159  4.961606e+14  5.833004e+42   \n",
      "213        38.618150  r.ZTF  0.000151  4.961606e+14  5.556640e+42   \n",
      "214        44.288620  r.ZTF  0.000145  4.961606e+14  5.302641e+42   \n",
      "215        47.139550  r.ZTF  0.000138  4.961606e+14  5.057923e+42   \n",
      "216        56.656960  r.ZTF  0.000125  4.961606e+14  4.573959e+42   \n",
      "\n",
      "          err_lum        lum_kc        lum_bb           mjd  \n",
      "147  1.025794e+42  9.586385e+42  2.374656e+44  58607.298177  \n",
      "148  1.001614e+42  9.369538e+42  2.119287e+44  58616.804550  \n",
      "149  9.266171e+41  8.677625e+42  1.778639e+44  58627.266710  \n",
      "150  8.336434e+41  7.812656e+42  1.504934e+44  58632.975120  \n",
      "151  8.551067e+41  8.013823e+42  1.543373e+44  58632.991480  \n",
      "152  7.946581e+41  7.447661e+42  1.428802e+44  58635.829380  \n",
      "153  7.508969e+41  7.036600e+42  1.364821e+44  58638.668140  \n",
      "154  7.821685e+41  7.328219e+42  1.444812e+44  58645.345170  \n",
      "155  6.265277e+41  5.869735e+42  1.161773e+44  58648.194300  \n",
      "156  6.047469e+41  5.447321e+42  1.085677e+44  58650.987390  \n",
      "157  5.373538e+41  5.032411e+42  1.028373e+44  58659.576240  \n",
      "158  5.301275e+41  4.964735e+42  1.014551e+44  58659.602120  \n",
      "159  4.982649e+41  4.666079e+42  9.580805e+43  58662.464750  \n",
      "160  4.695267e+41  4.396421e+42  9.122694e+43  58665.301890  \n",
      "161  4.300711e+41  4.025757e+42  8.578282e+43  58670.995190  \n",
      "162  6.433910e+41  3.955762e+42  8.669326e+43  58676.719510  \n",
      "163  3.901758e+41  3.649449e+42  8.343428e+43  58684.211510  \n",
      "164  3.888126e+41  3.636085e+42  8.442755e+43  58687.074150  \n",
      "165  3.528745e+41  3.299729e+42  7.720270e+43  58688.099830  \n",
      "166  3.570593e+41  3.338860e+42  7.812023e+43  58688.103260  \n",
      "167  3.589718e+41  3.356743e+42  7.854065e+43  58688.106680  \n",
      "168  3.726836e+41  3.484950e+42  8.156690e+43  58688.150160  \n",
      "169  3.488031e+41  3.261171e+42  7.736597e+43  58689.928030  \n",
      "170  7.071658e+41  2.491284e+42  5.897897e+43  58704.303700  \n",
      "171  4.567871e+41  2.664240e+42  6.320733e+43  58706.931700  \n",
      "205  4.344974e+41  6.152060e+42  2.082332e+44  58583.511270  \n",
      "206  5.110318e+41  1.043671e+43  3.036545e+44  58593.957519  \n",
      "207  6.583971e+41  1.340250e+43  3.542004e+44  58601.609536  \n",
      "208  6.981165e+41  1.417844e+43  3.511628e+44  58607.313062  \n",
      "209  6.690336e+41  1.349115e+43  2.766850e+44  58627.212090  \n",
      "210  5.616787e+41  1.129787e+43  2.177264e+44  58632.938490  \n",
      "211  5.931000e+41  1.192761e+43  2.287956e+44  58635.792280  \n",
      "212  5.372395e+41  1.080916e+43  2.096599e+44  58638.684780  \n",
      "213  5.117854e+41  1.030078e+43  2.015875e+44  58642.488150  \n",
      "214  5.040198e+41  9.834389e+42  1.946243e+44  58648.158620  \n",
      "215  4.658520e+41  9.383236e+42  1.870251e+44  58651.009550  \n",
      "216  4.288602e+41  8.494396e+42  1.738410e+44  58660.526960  \n"
     ]
    }
   ],
   "source": [
    "ztf_p = photometry_data[np.array([\"ZTF\" in x for x in photometry_data[\"band\"]])]\n",
    "ztf_p = ztf_p[ztf_p[\"flux_Jy\"] > 0.]\n",
    "ztf_p = ztf_p.assign(mjd=(ztf_p[\"#day_since_peak\"] + t_peak_mjd.mjd))\n",
    "print(ztf_p)"
   ]
  },
  {
   "cell_type": "code",
   "execution_count": 7,
   "metadata": {},
   "outputs": [
    {
     "data": {
      "image/png": "[encoded data removed]",
      "text/plain": [
       "<Figure size 432x288 with 1 Axes>"
      ]
     },
     "metadata": {
      "needs_background": "light"
     },
     "output_type": "display_data"
    }
   ],
   "source": [
    "for f in [\"g\", \"r\"]:\n",
    "    \n",
    "    mask = ztf_p[\"band\"] == f\"{f}.ZTF\"\n",
    "\n",
    "    plt.errorbar(ztf_p[\"mjd\"][mask] - bran_disc.mjd, ztf_p[\"flux_Jy\"][mask]*ztf_p[\"nu_rest\"][mask],fmt=\"o\", color=f)\n",
    "    \n",
    "plt.yscale(\"log\")"
   ]
  },
  {
   "cell_type": "code",
   "execution_count": 8,
   "metadata": {},
   "outputs": [
    {
     "name": "stdout",
     "output_type": "stream",
     "text": [
      "147    58607.298177\n",
      "148    58616.804550\n",
      "149    58627.266710\n",
      "150    58632.975120\n",
      "151    58632.991480\n",
      "152    58635.829380\n",
      "153    58638.668140\n",
      "154    58645.345170\n",
      "155    58648.194300\n",
      "156    58650.987390\n",
      "157    58659.576240\n",
      "158    58659.602120\n",
      "159    58662.464750\n",
      "160    58665.301890\n",
      "161    58670.995190\n",
      "162    58676.719510\n",
      "163    58684.211510\n",
      "164    58687.074150\n",
      "165    58688.099830\n",
      "166    58688.103260\n",
      "167    58688.106680\n",
      "168    58688.150160\n",
      "169    58689.928030\n",
      "170    58704.303700\n",
      "171    58706.931700\n",
      "205    58583.511270\n",
      "206    58593.957519\n",
      "207    58601.609536\n",
      "208    58607.313062\n",
      "209    58627.212090\n",
      "210    58632.938490\n",
      "211    58635.792280\n",
      "212    58638.684780\n",
      "213    58642.488150\n",
      "214    58648.158620\n",
      "215    58651.009550\n",
      "216    58660.526960\n",
      "Name: mjd, dtype: float64 0      58574.4859\n",
      "1      58574.5250\n",
      "2      58582.4648\n",
      "3      58582.4648\n",
      "4      58593.4459\n",
      "          ...    \n",
      "132    58757.2814\n",
      "133    58758.1477\n",
      "134    58758.1885\n",
      "135    58758.2617\n",
      "136    58759.1902\n",
      "Name: mjd, Length: 85, dtype: float64\n"
     ]
    }
   ],
   "source": [
    "print(ztf_p[\"mjd\"], ztf[\"mjd\"])"
   ]
  },
  {
   "cell_type": "code",
   "execution_count": 10,
   "metadata": {
    "scrolled": true
   },
   "outputs": [
    {
     "name": "stdout",
     "output_type": "stream",
     "text": [
      "          # date         jdobs filter  absmag  magpsf  sigmamagpsf  limmag  \\\n",
      "1    2019 Apr 01  2.458575e+06      g   99.00   99.00        99.00   17.92   \n",
      "8    2019 May 04  2.458608e+06      g  -18.90   17.85         0.06   20.92   \n",
      "9    2019 May 04  2.458608e+06      g  -18.90   17.85         0.06   20.92   \n",
      "12   2019 May 14  2.458618e+06      g  -18.87   17.87         0.06   20.84   \n",
      "25   2019 May 25  2.458629e+06      g  -18.79   17.96         0.08   19.84   \n",
      "33   2019 May 31  2.458635e+06      g  -18.67   18.07         0.07   20.87   \n",
      "34   2019 May 31  2.458635e+06      g  -18.70   18.04         0.06   20.28   \n",
      "37   2019 Jun 03  2.458638e+06      g  -18.62   18.12         0.06   21.05   \n",
      "39   2019 Jun 06  2.458641e+06      g  -18.56   18.19         0.07   20.86   \n",
      "44   2019 Jun 13  2.458648e+06      g  -18.60   18.14         0.09   20.32   \n",
      "47   2019 Jun 16  2.458651e+06      g  -18.36   18.38         0.10   19.74   \n",
      "52   2019 Jun 19  2.458654e+06      g  -18.28   18.46         0.10   19.48   \n",
      "66   2019 Jun 28  2.458663e+06      g  -18.19   18.55         0.06   20.89   \n",
      "67   2019 Jun 28  2.458663e+06      g  -18.18   18.56         0.08   20.84   \n",
      "71   2019 Jul 01  2.458666e+06      g  -18.11   18.63         0.07   20.71   \n",
      "73   2019 Jul 04  2.458669e+06      g  -18.05   18.70         0.08   20.93   \n",
      "74   2019 Jul 07  2.458672e+06      g   99.00   99.00        99.00   16.55   \n",
      "75   2019 Jul 10  2.458675e+06      g  -17.95   18.79         0.09   21.01   \n",
      "80   2019 Jul 16  2.458681e+06      g  -17.93   18.81         0.15   19.26   \n",
      "82   2019 Jul 24  2.458689e+06      g  -17.85   18.90         0.09   20.66   \n",
      "83   2019 Jul 27  2.458692e+06      g  -17.84   18.90         0.08   20.91   \n",
      "85   2019 Jul 28  2.458693e+06      g  -17.74   19.01         0.05   21.48   \n",
      "86   2019 Jul 28  2.458693e+06      g  -17.75   18.99         0.04   21.46   \n",
      "87   2019 Jul 28  2.458693e+06      g  -17.76   18.99         0.03   21.68   \n",
      "89   2019 Jul 28  2.458693e+06      g  -17.80   18.95         0.04   21.49   \n",
      "91   2019 Jul 30  2.458695e+06      g  -17.73   19.02         0.07   20.94   \n",
      "101  2019 Aug 14  2.458710e+06      g  -17.43   19.31         0.27   19.42   \n",
      "102  2019 Aug 17  2.458713e+06      g  -17.51   19.24         0.16   19.70   \n",
      "107  2019 Aug 30  2.458726e+06      g  -17.16   19.58         0.13   20.76   \n",
      "111  2019 Sep 06  2.458733e+06      g  -17.12   19.63         0.16   20.42   \n",
      "124  2019 Sep 21  2.458748e+06      g  -16.88   19.86         0.18   20.46   \n",
      "126  2019 Sep 24  2.458751e+06      g  -16.81   19.94         0.28   19.91   \n",
      "129  2019 Sep 28  2.458755e+06      g  -16.83   19.91         0.17   20.64   \n",
      "130  2019 Oct 01  2.458758e+06      g  -16.87   19.88         0.17   20.70   \n",
      "131  2019 Oct 01  2.458758e+06      g  -16.75   19.99         0.19   20.79   \n",
      "134  2019 Oct 02  2.458759e+06      g  -16.95   19.79         0.05   21.61   \n",
      "136  2019 Oct 03  2.458760e+06      g  -16.98   19.76         0.06   21.64   \n",
      "\n",
      "    instrument programid reducedby refsys  issub  isdiffpos         mjd  \n",
      "1      P48+ZTF         1      None   None   True       True  58574.5250  \n",
      "8      P48+ZTF         1      None   None   True       True  58607.4696  \n",
      "9      P48+ZTF         1      None   None   True       True  58607.4696  \n",
      "12     P48+ZTF         1      None   None   True       True  58617.4627  \n",
      "25     P48+ZTF         1      None   None   True       True  58628.4606  \n",
      "33     P48+ZTF         1      None   None   True       True  58634.4612  \n",
      "34     P48+ZTF         1      None   None   True       True  58634.4785  \n",
      "37     P48+ZTF         1      None   None   True       True  58637.4617  \n",
      "39     P48+ZTF         1      None   None   True       True  58640.4458  \n",
      "44     P48+ZTF         1      None   None   True       True  58647.4646  \n",
      "47     P48+ZTF         1      None   None   True       True  58650.4597  \n",
      "52     P48+ZTF         1      None   None   True       True  58653.3957  \n",
      "66     P48+ZTF         1      None   None   True       True  58662.4243  \n",
      "67     P48+ZTF         2      None   None   True       True  58662.4516  \n",
      "71     P48+ZTF         1      None   None   True       True  58665.4607  \n",
      "73     P48+ZTF         1      None   None   True       True  58668.4432  \n",
      "74     P48+ZTF         1      None   None   True       True  58671.4454  \n",
      "75     P48+ZTF         1      None   None   True       True  58674.4280  \n",
      "80     P48+ZTF         1      None   None   True       True  58680.4454  \n",
      "82     P48+ZTF         1      None   None   True       True  58688.3209  \n",
      "83     P48+ZTF         1      None   None   True       True  58691.3301  \n",
      "85     P48+ZTF         2      None   None   True       True  58692.4084  \n",
      "86     P48+ZTF         2      None   None   True       True  58692.4119  \n",
      "87     P48+ZTF         2      None   None   True       True  58692.4155  \n",
      "89     P48+ZTF         2      None   None   True       True  58692.4612  \n",
      "91     P48+ZTF         1      None   None   True       True  58694.3301  \n",
      "101    P48+ZTF         1      None   None   True       True  58709.4418  \n",
      "102    P48+ZTF         1      None   None   True       True  58712.2044  \n",
      "107    P48+ZTF         1      None   None   True       True  58725.3178  \n",
      "111    P48+ZTF         1      None   None   True       True  58732.3037  \n",
      "124    P48+ZTF         1      None   None   True       True  58747.2777  \n",
      "126    P48+ZTF         1      None   None   True       True  58750.2087  \n",
      "129    P48+ZTF         1      None   None   True       True  58754.2559  \n",
      "130    P48+ZTF         2      None   None   True       True  58757.1740  \n",
      "131    P48+ZTF         1      None   None   True       True  58757.1905  \n",
      "134    P48+ZTF         2      None   None   True       True  58758.1885  \n",
      "136    P48+ZTF         2      None   None   True       True  58759.1902  \n"
     ]
    }
   ],
   "source": [
    "print(ztf[ztf[\"filter\"]==\"g\"])"
   ]
  },
  {
   "cell_type": "code",
   "execution_count": null,
   "metadata": {},
   "outputs": [],
   "source": [
    "plt.plot()"
   ]
  }
 ],
 "metadata": {
  "kernelspec": {
   "display_name": "bran_stark_paper",
   "language": "python",
   "name": "bran_stark_paper"
  },
  "language_info": {
   "codemirror_mode": {
    "name": "ipython",
    "version": 3
   },
   "file_extension": ".py",
   "mimetype": "text/x-python",
   "name": "python",
   "nbconvert_exporter": "python",
   "pygments_lexer": "ipython3",
   "version": "3.8.0"
  }
 },
 "nbformat": 4,
 "nbformat_minor": 4
}
