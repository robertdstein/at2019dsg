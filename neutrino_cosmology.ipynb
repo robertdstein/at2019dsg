{
 "cells": [
  {
   "cell_type": "code",
   "execution_count": 1,
   "metadata": {},
   "outputs": [
    {
     "name": "stderr",
     "output_type": "stream",
     "text": [
      "WARNING:root:No scratch directory has been set. Using home directory as default.\n"
     ]
    }
   ],
   "source": [
    "%matplotlib inline\n",
    "import matplotlib\n",
    "from plots import big_fontsize, fig_width, fontsize\n",
    "from flarestack.utils.neutrino_cosmology import calculate_transient_cosmology\n",
    "from astropy import units as u\n",
    "import matplotlib.pyplot as plt\n",
    "from flarestack.shared import plot_output_dir\n",
    "import numpy as np\n",
    "import os\n",
    "from flarestack.misc.convert_diffuse_flux_contour import contour_95, \\\n",
    "    upper_contour, lower_contour, global_fit_e_range\n",
    "from flarestack.utils.neutrino_cosmology import get_diffuse_flux_at_1GeV\n",
    "import logging\n",
    "from flarestack.analyses.ccsn.stasik_2017.sn_cosmology import ccsn_madau"
   ]
  },
  {
   "cell_type": "code",
   "execution_count": 2,
   "metadata": {},
   "outputs": [],
   "source": [
    "logging.getLogger().setLevel(\"INFO\")"
   ]
  },
  {
   "cell_type": "code",
   "execution_count": 3,
   "metadata": {},
   "outputs": [
    {
     "name": "stdout",
     "output_type": "stream",
     "text": [
      "3.676470588235294e+49 erg\n"
     ]
    }
   ],
   "source": [
    "e_bran = 10**50 * u.erg\n",
    "e_tot = e_bran / 0.16\n",
    "e_mean = e_tot/17.\n",
    "print(e_mean)"
   ]
  },
  {
   "cell_type": "code",
   "execution_count": 4,
   "metadata": {},
   "outputs": [
    {
     "name": "stderr",
     "output_type": "stream",
     "text": [
      "INFO:root:Using the northern_tracks_19 best fit values of the diffuse flux.\n",
      "INFO:root:Diffuse Flux at 1 GeV: 4.058471421020815e-07 1 / (cm2 GeV s sr)\n",
      "INFO:root:Diffuse Spectral Index is 2.29\n",
      "INFO:root:Minimum Energy is 100000 GeV.\n",
      "INFO:root:Maximum Energy is 10000000 GeV\n",
      "INFO:root:BranTDEs\n",
      "INFO:root:Neutrino Energy is 3.676470588235294e+49 erg\n",
      "INFO:root:Rate is 8e-07 1 / (Mpc3 yr)\n",
      "INFO:root:Cumulative sources at z=8.0: 8.235E+04\n",
      "INFO:root:Cumulative flux at z=8.0 (1 GeV): 1.136E-06 1 / (cm2 GeV s sr)\n",
      "INFO:root:Cumulative annual flux at z=8.0 (1 GeV): 3.585E+01 1 / (cm2 GeV sr)\n",
      "INFO:root:Fraction of diffuse flux at 1GeV: 2.8\n",
      "INFO:root:Cumulative neutrino flux 1.1361201386712302e-06 1 / (cm2 GeV s sr)\n",
      "INFO:root:Fraction from nearby (z<0.15) sources: 0.39908632501430297\n",
      "INFO:root:Fraction from nearby (z<0.3) sources: 0.6478208162630199\n"
     ]
    },
    {
     "data": {
      "image/png": "[encoded data removed]",
      "text/plain": [
       "<Figure size 432x288 with 1 Axes>"
      ]
     },
     "metadata": {
      "needs_background": "light"
     },
     "output_type": "display_data"
    }
   ],
   "source": [
    "# e_pdf_dict_template = {\n",
    "#     \"energy_pdf_name\": \"power_law\",\n",
    "#     \"e_min_gev\": 2 * 10**5,\n",
    "#     \"e_max_gev\": 10**6,\n",
    "#     \"gamma\": 2.0\n",
    "# }\n",
    "\n",
    "e_pdf_dict_template = {\n",
    "    \"energy_pdf_name\": \"power_law\",\n",
    "    \"e_min_gev\": 10**5,\n",
    "    \"e_max_gev\": 10**7,\n",
    "    \"gamma\": 2.5\n",
    "}\n",
    "\n",
    "diffuse_fit = \"northern_tracks_19\"\n",
    "\n",
    "# Assumed source evolution is highly negative\n",
    "non_jetted_m = 0\n",
    "\n",
    "eta = -2\n",
    "\n",
    "\n",
    "def raw_tde_evolution(z):\n",
    "    \"\"\"https://arxiv.org/abs/1509.01592\"\"\"\n",
    "    evolution = ((1 + z)**(0.2 * eta) + ((1 + z)/1.43)**(-3.2 * eta) +\n",
    "                 ((1 + z)/2.66)**(-7 * eta)\n",
    "                 )**(1./eta)\n",
    "    return evolution\n",
    "\n",
    "# raw_tde_evolution = ccsn_madau\n",
    "\n",
    "\n",
    "def normed_tde_evolution(z):\n",
    "    \"\"\"TDE evolution, scaled such that normed_evolution(0) = 1. This function\n",
    "    can then be multiplied by the local TDE density to give overall TDE\n",
    "    redshift evolution\n",
    "\n",
    "    :param z: Redshift\n",
    "    :return: Normalised scaling of density with redshift\n",
    "    \"\"\"\n",
    "    return raw_tde_evolution(z) / raw_tde_evolution(0.0)\n",
    "\n",
    "\n",
    "\n",
    "def tde_rate(z):\n",
    "    \"\"\"TDE rate as a function of redshift, equal to the local density\n",
    "    multiplied by the redshift evolution of the density. Rate is derived\n",
    "    from https://arxiv.org/pdf/1707.03458\n",
    "\n",
    "    :param z: Redshift\n",
    "    :return: TDE rate at redshift z\n",
    "    \"\"\"\n",
    "    return (normed_tde_evolution(z) * 8 * 10**-7) / (u.Mpc**3 * u.yr)\n",
    "\n",
    "\n",
    "def theoretical_tde_rate(z):\n",
    "    \"\"\"Optimistic TDE rate from https://arxiv.org/pdf/1601.06787 as a function\n",
    "    of redshift, equal to the local density multiplied by the redshift\n",
    "    evolution of the density\n",
    "\n",
    "    :param z: Redshift\n",
    "    :return: TDE rate at redshift z\n",
    "    \"\"\"\n",
    "    return (normed_tde_evolution(z) * 1.5 * 10**-6) / (u.Mpc**3 * u.yr)\n",
    "\n",
    "\n",
    "res = [\n",
    "    (\"Bran\", e_mean, \"Non-jetted TDEs\"),\n",
    "    # (\"obscured\", 4.5*10**51 * u.erg),\n",
    "    # (\"silver\", 3 * 10**49 * u.erg)\n",
    "]\n",
    "\n",
    "norms = dict()\n",
    "\n",
    "for (name, energy, key) in res:\n",
    "\n",
    "    class_dict = dict()\n",
    "\n",
    "    # for i, rate in enumerate([tde_rate, theoretical_tde_rate]):\n",
    "    for i, rate in enumerate([tde_rate]):\n",
    "        e_pdf_dict = dict(e_pdf_dict_template)\n",
    "        e_pdf_dict[\"source_energy_erg\"] = energy\n",
    "\n",
    "        rate_key = [\"(Observed Rate)\", \"(Theoretical Rate)\"][i]\n",
    "\n",
    "        class_dict[rate_key] = calculate_transient_cosmology(e_pdf_dict, rate,\n",
    "                                                             name + \"TDEs\",\n",
    "                                                             zmax=6.0, diffuse_fit=diffuse_fit)\n",
    "\n",
    "    norms[key] = class_dict\n",
    "\n",
    "\n",
    "base_dir = \"plots/\"\n",
    "\n",
    "e_range = np.logspace(np.log10(e_pdf_dict_template[\"e_min_gev\"]), np.log10(e_pdf_dict_template[\"e_max_gev\"]), 3)\n",
    "\n",
    "\n",
    "plt.figure()\n",
    "\n",
    "# Plot 95% contour\n",
    "\n",
    "# plt.fill_between(\n",
    "#     global_fit_e_range,\n",
    "#     global_fit_e_range ** 2 * upper_contour(global_fit_e_range, contour_95),\n",
    "#     global_fit_e_range ** 2 * lower_contour(global_fit_e_range, contour_95),\n",
    "#     color=\"k\", label='IceCube diffuse flux\\nApJ 809, 2015',\n",
    "#     alpha=.5,\n",
    "# )\n",
    "\n",
    "diffuse_norm, diffuse_gamma = get_diffuse_flux_at_1GeV(diffuse_fit)\n",
    "\n",
    "\n",
    "plt.plot(global_fit_e_range,\n",
    "         diffuse_norm * global_fit_e_range**(2. - diffuse_gamma),\n",
    "         color=\"k\")\n",
    "\n",
    "linestyles = {\n",
    "    \"(Observed Rate)\": \"-\",\n",
    "    \"(Theoretical Rate)\": \":\"\n",
    "}\n",
    "\n",
    "try:\n",
    "    gamma = e_pdf_dict_template[\"gamma\"]\n",
    "except KeyError:\n",
    "    gamma = diffuse_gamma\n",
    "\n",
    "def z(energy, norm):\n",
    "    return norm * energy ** (2. - gamma)\n",
    "\n",
    "\n",
    "\n",
    "for i, (name, res_dict) in enumerate(norms.items()):\n",
    "    # plt.plot(e_range, z(e_range, norm), label=name)\n",
    "    for (rate, norm) in res_dict.items():\n",
    "        plt.errorbar(e_range, z(e_range, norm).value,\n",
    "                     yerr=.25 * np.array([x.value for x in z(e_range, norm)]),\n",
    "                     uplims=True, label=name,\n",
    "                     linestyle = linestyles[rate],\n",
    "                     color=[\"blue\", \"orange\"][i])\n",
    "\n",
    "plt.yscale(\"log\")\n",
    "plt.xscale(\"log\")\n",
    "plt.legend(loc=\"lower left\")\n",
    "# plt.title(r\"Contribution of TDEs to the Diffuse Neutrino Flux\")\n",
    "plt.ylabel(r\"$E^{2}\\frac{dN}{dE}$ [GeV cm$^{-2}$ s$^{-1}$ sr$^{-1}$]\")\n",
    "plt.xlabel(r\"$E_{\\nu}$ [GeV]\")\n",
    "plt.grid(True, linestyle=\":\")\n",
    "plt.tight_layout()\n",
    "plt.savefig(base_dir + \"diffuse_flux_global_fit.pdf\")"
   ]
  },
  {
   "cell_type": "code",
   "execution_count": null,
   "metadata": {},
   "outputs": [],
   "source": []
  },
  {
   "cell_type": "code",
   "execution_count": null,
   "metadata": {},
   "outputs": [],
   "source": []
  },
  {
   "cell_type": "code",
   "execution_count": null,
   "metadata": {},
   "outputs": [],
   "source": []
  }
 ],
 "metadata": {
  "kernelspec": {
   "display_name": "bran_stark_paper",
   "language": "python",
   "name": "bran_stark_paper"
  },
  "language_info": {
   "codemirror_mode": {
    "name": "ipython",
    "version": 3
   },
   "file_extension": ".py",
   "mimetype": "text/x-python",
   "name": "python",
   "nbconvert_exporter": "python",
   "pygments_lexer": "ipython3",
   "version": "3.8.0"
  }
 },
 "nbformat": 4,
 "nbformat_minor": 4
}
