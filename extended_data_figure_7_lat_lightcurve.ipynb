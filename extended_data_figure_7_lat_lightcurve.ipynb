{
 "cells": [
  {
   "cell_type": "code",
   "execution_count": 1,
   "metadata": {},
   "outputs": [],
   "source": [
    "%matplotlib inline\n",
    "from matplotlib.legend_handler import HandlerLine2D\n",
    "import sys\n",
    "from matplotlib.cbook import get_sample_data\n",
    "import matplotlib.image as mpimg\n",
    "import matplotlib.pyplot as plt\n",
    "import numpy as np\n",
    "import glob\n",
    "import os\n",
    "from IPython.display import display\n",
    "from plots import fontsize, big_fontsize, fig_width, "
   ]
  },
  {
   "cell_type": "code",
   "execution_count": 14,
   "metadata": {},
   "outputs": [],
   "source": [
    "def getLCdata(lc,ts=0.):\n",
    "\n",
    "    if not ts>-10: ts=25\n",
    "    \n",
    "    \"\"\" --  reading the LC output --- \"\"\"\n",
    "    s=lc.split('/')\n",
    "    src=s[-1].split('_lightcurve*.npy')[0]\n",
    "    o = np.load(lc,allow_pickle=True, encoding=\"bytes\").flat[0]\n",
    "    _ts = o[b'ts']\n",
    "    mjd=o[b'tmin_mjd']\n",
    "    mjd_max = o[b'tmax_mjd']\n",
    "    mjd_width = []\n",
    "    for ii in range(len(mjd)):\n",
    "        mjd_width.append(mjd_max[ii]-mjd[ii])\n",
    "    \n",
    "    mjd_middle= np.array(mjd)+ np.array(mjd_width)*0.5\n",
    "    flux=o[b'flux']\n",
    "    flux_err=o[b'flux_err']\n",
    "    ul = o[b'flux_ul95']\n",
    "    N_pred=o[b'npred']\n",
    "    bin_qual= o[b'fit_quality']\n",
    "\n",
    "    condition= _ts<ts  \n",
    "    \n",
    "  \n",
    "    y = [ (ul[i] if condition[i] else flux[i]) for i in range(len(mjd_middle)) ]\n",
    "    ye =[ (np.array(flux_err).mean()  if condition[i] else flux_err[i]) for i in range(len(mjd_middle)) ]\n",
    "    npred=[ ( 0 if condition[i] else N_pred[i]) for i in range(len(mjd_middle)) ]\n",
    "    \n",
    "    \n",
    "    bins_num = o[b'param_names'].shape[0]\n",
    "    \n",
    "    pl_idx = []\n",
    "    pl_idx_err = []\n",
    "    \n",
    "    \n",
    "    \n",
    "\n",
    "    return src,mjd_middle, np.array(mjd_width), y, ye, ul, npred, bin_qual, condition,pl_idx,pl_idx_err,_ts\n",
    "\n",
    "\n",
    "def plotLC(lc, ts=9, where='', save=False):\n",
    "    \n",
    "    f, axarr = plt.subplots(1, sharex=True, figsize=(2*fig_width, 1.*fig_width))\n",
    "    \n",
    "    f_scale_label=''\n",
    "\n",
    "    axarr.set_ylabel('Flux [10$^{-7}$ ph cm$^{-2}$ s$^{-1}$]', fontsize = big_fontsize)\n",
    "    axarr.set_xlabel('Time [MJD]',fontsize = big_fontsize)\n",
    "    src,mjd_middle, mjd_width, flux, fluxerr, ul, N_pred,bin_qual, lolims, pl_idx,pl_idx_err,_ts = getLCdata(lc,ts=ts)\n",
    "    \n",
    "    axarr.axes.get_xaxis().set_visible(True)\n",
    "    axarr.ticklabel_format(axis='y', style='sci', scilimits=(0,0))\n",
    "    mjd_beg = mjd_middle[0] - mjd_width[0]\n",
    "    mjd_end = mjd_middle[len(mjd_middle)-1] + mjd_width[len(mjd_middle)-1]\n",
    "    axarr.set_xlim(mjd_beg,mjd_end)\n",
    "    axarr.set_ylim(0.0, 1.7)\n",
    "#     plt.gca().set_ylim(bottom=0.0)\n",
    "    \n",
    "    axarr.errorbar(mjd_middle,np.array(flux)*1e7, xerr=mjd_width/2., yerr=np.array(fluxerr)*1e7, uplims=lolims,\n",
    "              color='C0',marker='s',markersize=3.,ls='none',label = r'Fermi-LAT',lw = 1.,capthick = 2,capsize = 6)\n",
    "    \n",
    "    axarr.axvline(x=58757, color = 'C1',ls='--')\n",
    "    axarr.tick_params(axis='both', which='major', labelsize=big_fontsize)\n",
    "\n",
    "    \n",
    "#     f.subplots_adjust(left=left, bottom=bottom, right=right, top=top, wspace=wspace, hspace=hspace)\n",
    "    \n",
    "    plt.title('Fermi-J2113.8+1120',fontsize = big_fontsize)\n",
    "    if save:\n",
    "        plt.savefig('plots/extended_data_figure_7_lat_lightcurve.pdf',transparent=False,bbox_inches='tight')\n",
    "\n",
    "    plt.show()"
   ]
  },
  {
   "cell_type": "code",
   "execution_count": 15,
   "metadata": {
    "scrolled": true
   },
   "outputs": [
    {
     "data": {
      "image/png": "[encoded data removed]",
      "text/plain": [
       "<Figure size 864x432 with 1 Axes>"
      ]
     },
     "metadata": {
      "needs_background": "light"
     },
     "output_type": "display_data"
    }
   ],
   "source": [
    "lc_list = glob.glob('./data/ps_j2113.8+1120_lightcurve.npy')\n",
    "\n",
    "\n",
    "for item in lc_list:\n",
    "    plotLC(item,ts=9.,save=True)\n",
    "    \n"
   ]
  },
  {
   "cell_type": "code",
   "execution_count": null,
   "metadata": {},
   "outputs": [],
   "source": []
  },
  {
   "cell_type": "code",
   "execution_count": null,
   "metadata": {},
   "outputs": [],
   "source": []
  }
 ],
 "metadata": {
  "kernelspec": {
   "display_name": "Python 3",
   "language": "python",
   "name": "python3"
  },
  "language_info": {
   "codemirror_mode": {
    "name": "ipython",
    "version": 3
   },
   "file_extension": ".py",
   "mimetype": "text/x-python",
   "name": "python",
   "nbconvert_exporter": "python",
   "pygments_lexer": "ipython3",
   "version": "3.8.5"
  }
 },
 "nbformat": 4,
 "nbformat_minor": 2
}
