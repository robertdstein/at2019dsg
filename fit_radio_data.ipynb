{
 "cells": [
  {
   "cell_type": "code",
   "execution_count": 1,
   "metadata": {},
   "outputs": [
    {
     "name": "stdout",
     "output_type": "stream",
     "text": [
      "20\n",
      "19\n",
      "18\n",
      "17\n",
      "16\n",
      "15\n",
      "14\n",
      "13\n",
      "12\n",
      "11\n",
      "10\n",
      "9\n",
      "8\n",
      "7\n",
      "6\n",
      "5\n",
      "4\n",
      "3\n",
      "2\n",
      "1\n",
      "done building interpolator. testing:\n",
      "{B, nu, p}= 0.05 1.5 2.1\n",
      "diff alpha (dex): -0.014\n",
      "diff Ptot (dex): -0.014\n",
      "diff Snu (dex): -0.014\n",
      "{B, nu, p}= 0.05 1.5 3.5\n",
      "diff alpha (dex): -0.002\n",
      "diff Ptot (dex): -0.002\n",
      "diff Snu (dex): -0.002\n",
      "{B, nu, p}= 0.05 17.0 2.1\n",
      "diff alpha (dex): -0.016\n",
      "diff Ptot (dex): -0.017\n",
      "diff Snu (dex): -0.017\n",
      "{B, nu, p}= 0.05 17.0 3.5\n",
      "diff alpha (dex): -0.003\n",
      "diff Ptot (dex): -0.003\n",
      "diff Snu (dex): -0.003\n",
      "{B, nu, p}= 2 1.5 2.1\n",
      "diff alpha (dex): -0.012\n",
      "diff Ptot (dex): -0.012\n",
      "diff Snu (dex): 0.000\n",
      "{B, nu, p}= 2 1.5 3.5\n",
      "diff alpha (dex): -0.001\n",
      "diff Ptot (dex): -0.001\n",
      "diff Snu (dex): -0.000\n",
      "{B, nu, p}= 2 17.0 2.1\n",
      "diff alpha (dex): -0.013\n",
      "diff Ptot (dex): -0.013\n",
      "diff Snu (dex): 0.000\n",
      "{B, nu, p}= 2 17.0 3.5\n",
      "diff alpha (dex): -0.002\n",
      "diff Ptot (dex): -0.002\n",
      "diff Snu (dex): -0.001\n",
      "20\n",
      "19\n",
      "18\n",
      "17\n",
      "16\n",
      "15\n",
      "14\n",
      "13\n",
      "12\n",
      "11\n",
      "10\n",
      "9\n",
      "8\n",
      "7\n",
      "6\n",
      "5\n",
      "4\n",
      "3\n",
      "2\n",
      "1\n",
      "done building interpolator. testing:\n",
      "{B, nu, p}= 0.05 1.5 2.1\n",
      "diff alpha (dex): -0.014\n",
      "diff Ptot (dex): -0.014\n",
      "diff Snu (dex): -0.014\n",
      "{B, nu, p}= 0.05 1.5 3.5\n",
      "diff alpha (dex): -0.002\n",
      "diff Ptot (dex): -0.002\n",
      "diff Snu (dex): -0.002\n",
      "{B, nu, p}= 0.05 17.0 2.1\n",
      "diff alpha (dex): -0.016\n",
      "diff Ptot (dex): -0.017\n",
      "diff Snu (dex): -0.017\n",
      "{B, nu, p}= 0.05 17.0 3.5\n",
      "diff alpha (dex): -0.003\n",
      "diff Ptot (dex): -0.003\n",
      "diff Snu (dex): -0.003\n",
      "{B, nu, p}= 2 1.5 2.1\n",
      "diff alpha (dex): -0.012\n",
      "diff Ptot (dex): -0.012\n",
      "diff Snu (dex): 0.000\n",
      "{B, nu, p}= 2 1.5 3.5\n",
      "diff alpha (dex): -0.001\n",
      "diff Ptot (dex): -0.001\n",
      "diff Snu (dex): -0.000\n",
      "{B, nu, p}= 2 17.0 2.1\n",
      "diff alpha (dex): -0.013\n",
      "diff Ptot (dex): -0.013\n",
      "diff Snu (dex): 0.000\n",
      "{B, nu, p}= 2 17.0 3.5\n",
      "diff alpha (dex): -0.002\n",
      "diff Ptot (dex): -0.002\n",
      "diff Snu (dex): -0.001\n"
     ]
    }
   ],
   "source": [
    "%matplotlib inline\n",
    "import matplotlib.pyplot as plt\n",
    "import astropy.io.ascii\n",
    "from scipy.optimize import leastsq\n",
    "from astropy import units as u\n",
    "from astropy import constants as const\n",
    "from astropy.time import Time\n",
    "from data import bran_disc, bran_z\n",
    "import pandas as pd\n",
    "from astropy.coordinates import Distance\n",
    "\n",
    "# personal import\n",
    "from sjoert import sync\n",
    "\n",
    "# local import\n",
    "import equipartition_functions \n",
    "from importlib import reload\n",
    "reload(equipartition_functions)\n",
    "from equipartition_functions import *"
   ]
  },
  {
   "cell_type": "code",
   "execution_count": 2,
   "metadata": {},
   "outputs": [],
   "source": [
    "def e_eq(b_g, r_cm):\n",
    "    \n",
    "    r = r_cm * u.cm\n",
    "    b = b_g * u.gauss\n",
    "    e = b**2. * (4./3. * np.pi * r**3)/ (2 * const.mu0) \n",
    "    return e.to(\"erg\")\n",
    "\n",
    "def dedb(b_g, r_cm):\n",
    "    r = r_cm * u.cm\n",
    "    b = b_g * u.gauss\n",
    "    de = 2. * b * (4./3. * np.pi * r**3)/ (2 * const.mu0)\n",
    "    return de\n",
    "\n",
    "def dedr(b_g, r_cm):\n",
    "    r = r_cm * u.cm\n",
    "    b = b_g * u.gauss\n",
    "    de = b**2. * (4. * np.pi * r**2.)/ (2 * const.mu0) \n",
    "    return de\n",
    "    "
   ]
  },
  {
   "cell_type": "code",
   "execution_count": 3,
   "metadata": {},
   "outputs": [
    {
     "name": "stdout",
     "output_type": "stream",
     "text": [
      "['2019-05-22', '2019-06-19', '2019-08-08', '2019-10-05']\n"
     ]
    }
   ],
   "source": [
    "data_rec = astropy.io.ascii.read('./data/at2019dsg_merged.dat', format='fixed_width')\n",
    "\n",
    "data_rec['eflux_mJy'] = np.clip(data_rec['eflux_mJy'], 0.1*data_rec['flux_mJy'], 1e99) # force errors?\n",
    "\n",
    "mjd_plot = np.array([58625, 58653, 58703, 58761]) #58818\n",
    "\n",
    "ts = []\n",
    "for x in mjd_plot:\n",
    "    date = Time(x, format=\"mjd\")\n",
    "    date.format = \"iso\"\n",
    "    date.out_subfmt = 'date'\n",
    "    ts.append(date.value)\n",
    "print(ts)\n",
    "\n",
    "B_single = np.zeros((len(mjd_plot),2))\n",
    "B_sum = np.zeros((len(mjd_plot),2))\n",
    "R_single = np.zeros((len(mjd_plot),2))\n",
    "R_sum = np.zeros((len(mjd_plot),2))\n",
    "E_single = np.zeros((len(mjd_plot),2))\n",
    "\n",
    "p0 = [np.log10(0.9*1e16/R0), 60, 0.6, -1.00, 5/3., 2.0]"
   ]
  },
  {
   "cell_type": "code",
   "execution_count": 4,
   "metadata": {},
   "outputs": [
    {
     "name": "stdout",
     "output_type": "stream",
     "text": [
      "Equipartition Energy: (0.39 +/- 0.065 erg) x 10^48 erg\n",
      "single-zone:\n",
      "B=0.996 +/- 0.055 G\n",
      "d=(1.33 +/- 0.05)x10^16 cm\n",
      "K = 38526.594920668\n",
      "Ne = 21403.66249433567\n",
      "vol = 9.945727665044889e+49 cm3\n",
      "n = 21403.663844815557\n",
      "Mean gamma per e 2.2500000000000004\n",
      "Mean E per e: 1.8420987997853748e-06 erg\n",
      "Energy Density = 0.003946003063244472 erg / cm3\n",
      "e density = 2142.123464661193 1 / cm3\n",
      "N_electrons = 2.130497660442263e+53\n",
      "chi2: 0.7726441317227516\n",
      "cooling time at 16 GHz (day) 78.17619525892485\n"
     ]
    },
    {
     "data": {
      "image/png": "[encoded data removed]",
      "text/plain": [
       "<Figure size 432x288 with 1 Axes>"
      ]
     },
     "metadata": {
      "needs_background": "light"
     },
     "output_type": "display_data"
    },
    {
     "name": "stdout",
     "output_type": "stream",
     "text": [
      "Equipartition Energy: (0.97 +/- 0.09 erg) x 10^48 erg\n",
      "single-zone:\n",
      "B=0.733 +/- 0.021 G\n",
      "d=(2.22 +/- 0.05)x10^16 cm\n",
      "K = 20847.604459623704\n",
      "Ne = 11582.001746793772\n",
      "vol = 4.557916568807363e+50 cm3\n",
      "n = 11582.002477568725\n",
      "Mean gamma per e 2.2500000000000004\n",
      "Mean E per e: 1.8420987997853748e-06 erg\n",
      "Energy Density = 0.0021352707455299263 erg / cm3\n",
      "e density = 1159.1510432441025 1 / cm3\n",
      "N_electrons = 5.283313745752635e+53\n",
      "chi2: 2.118805126524582\n",
      "cooling time at 16 GHz (day) 123.90900827722574\n"
     ]
    },
    {
     "data": {
      "image/png": "[encoded data removed]",
      "text/plain": [
       "<Figure size 432x288 with 1 Axes>"
      ]
     },
     "metadata": {
      "needs_background": "light"
     },
     "output_type": "display_data"
    },
    {
     "name": "stdout",
     "output_type": "stream",
     "text": [
      "Equipartition Energy: (2.3 +/- 0.22 erg) x 10^48 erg\n",
      "single-zone:\n",
      "B=0.547 +/- 0.015 G\n",
      "d=(3.59 +/- 0.09)x10^16 cm\n",
      "K = 11636.354377641794\n",
      "Ne = 6464.640913020817\n",
      "vol = 1.9435432022092818e+51 cm3\n",
      "n = 6464.641320912108\n",
      "Mean gamma per e 2.2500000000000004\n",
      "Mean E per e: 1.8420987997853748e-06 erg\n",
      "Energy Density = 0.001191828400971403 erg / cm3\n",
      "e density = 646.9948306302922 1 / cm3\n",
      "N_electrons = 1.25746240493605e+54\n",
      "chi2: 2.1230373243237053\n",
      "cooling time at 16 GHz (day) 191.88114255629094\n"
     ]
    },
    {
     "data": {
      "image/png": "[encoded data removed]",
      "text/plain": [
       "<Figure size 432x288 with 1 Axes>"
      ]
     },
     "metadata": {
      "needs_background": "light"
     },
     "output_type": "display_data"
    },
    {
     "name": "stdout",
     "output_type": "stream",
     "text": [
      "Equipartition Energy: (4.2 +/- 0.38 erg) x 10^48 erg\n",
      "single-zone:\n",
      "B=0.329 +/- 0.008 G\n",
      "d=(6.12 +/- 0.16)x10^16 cm\n",
      "K = 4213.673839210379\n",
      "Ne = 2340.929762969741\n",
      "vol = 9.617323618901926e+51 cm3\n",
      "n = 2340.929910672433\n",
      "Mean gamma per e 2.2500000000000004\n",
      "Mean E per e: 1.8420987997853748e-06 erg\n",
      "Energy Density = 0.0004315764191274902 erg / cm3\n",
      "e density = 234.28516384559487 1 / cm3\n",
      "N_electrons = 2.253196239810547e+54\n",
      "chi2: 0.4830771748848453\n",
      "cooling time at 16 GHz (day) 411.0544111453583\n"
     ]
    },
    {
     "data": {
      "image/png": "[encoded data removed]",
      "text/plain": [
       "<Figure size 432x288 with 1 Axes>"
      ]
     },
     "metadata": {
      "needs_background": "light"
     },
     "output_type": "display_data"
    },
    {
     "name": "stderr",
     "output_type": "stream",
     "text": [
      "No handles with labels found to put in legend.\n",
      "No handles with labels found to put in legend.\n"
     ]
    },
    {
     "name": "stdout",
     "output_type": "stream",
     "text": [
      "28 v/c from R_eq     (spherical emitting region): 0.12150904213484458\n",
      "78 v/c from R_eq     (spherical emitting region): 0.10628263656643716\n",
      "136 v/c from R_eq     (spherical emitting region): 0.1682878987730585\n",
      "v/c for neutrino  (spherical emitting region): 4.647640693280171\n"
     ]
    },
    {
     "data": {
      "image/png": "[encoded data removed]",
      "text/plain": [
       "<Figure size 432x288 with 1 Axes>"
      ]
     },
     "metadata": {
      "needs_background": "light"
     },
     "output_type": "display_data"
    },
    {
     "data": {
      "text/plain": [
       "<Figure size 432x288 with 0 Axes>"
      ]
     },
     "metadata": {},
     "output_type": "display_data"
    }
   ],
   "source": [
    "# #ii = argsort(data_rec['mjd'])\n",
    "# DeltaT = data_rec['mjd'] - min(data_rec['mjd']) + 50 # test!\n",
    "# lsq_all = leastsq(res_sumtime, p0, (data_rec['nu_GHz']*1e9, DeltaT, data_rec['flux_mJy'], data_rec['eflux_mJy']), full_output=True)\n",
    "# print (lsq_all[0])\n",
    "\n",
    "plt.clf()\n",
    "for i, mjd in enumerate(mjd_plot): \n",
    "    it = abs(data_rec['mjd']-mjd)<10\n",
    "    ii = it * (data_rec['eflux_mJy']>0)\n",
    "\n",
    "    if sum(ii)>1:\n",
    "        nu = data_rec[ii]['nu_GHz']\n",
    "        Fnu = data_rec[ii]['flux_mJy'] - 0.05\n",
    "        Fnu_err = data_rec[ii]['eflux_mJy'] \n",
    "\n",
    "        p0 = [0.1, 1e16]\n",
    "        lsq = leastsq(res_single, p0, (nu*1e9, Fnu, Fnu_err), full_output=True)\n",
    "        #p0 = [lsq[0][0], lsq[0][1]] # guess next initial parameters\n",
    "        \n",
    "        e_erg = e_eq(lsq[0][0], lsq[0][1])\n",
    "        \n",
    "        # Analytic value for errors\n",
    "        \n",
    "        de_b = (dedb(lsq[0][0], lsq[0][1]) * sqrt(lsq[1][0][0]) * u.gauss).to(\"erg\")\n",
    "        de_r = (dedr(lsq[0][0], lsq[0][1]) * sqrt(lsq[1][1][1]) * u.cm).to(\"erg\")\n",
    "        \n",
    "        err = sqrt(de_b ** 2. + de_r ** 2.)        \n",
    "        print(f\"Equipartition Energy: ({e_erg.value/10.**48:.2g} +/- {err/10.**48 :.2g}) x 10^48 erg\")\n",
    "\n",
    "        if lsq[1] is not None:\n",
    "            print ('''single-zone:\\nB={0:0.3f} +/- {1:0.3f} G\\nd=({2:0.2f} +/- {3:0.2f})x10^16 cm'''.format(lsq[0][0],  sqrt(lsq[1][0][0]), lsq[0][1]/1e16, sqrt(lsq[1][1][1])/1e16)\t\t)\n",
    "\n",
    "            B_single[i,:], R_single[i,:] = (lsq[0][0],  sqrt(lsq[1][0][0])), (lsq[0][1], sqrt(lsq[1][1][1]))\n",
    "        if len(p0)>2: \n",
    "            print ('p={0:0.2f} +/- {1:0.2f}'.format(lsq[0][2],sqrt(lsq[1][2,2])))\n",
    "\n",
    "        B_single[i,:], R_single[i,:] = (lsq[0][0],  sqrt(lsq[1][0][0])), (lsq[0][1], sqrt(lsq[1][1][1]))\n",
    "        E_single[i][0] = e_erg.value\n",
    "        E_single[i][1] = err.value\n",
    "        \n",
    "        p_electron = 2.8\n",
    "        \n",
    "        vol = 4. * np.pi * (lsq[0][1] * u.cm)**3/.3\n",
    "        K = sync.K(lsq[0][0], p=p_electron, gamma_max=10000.0, gamma_min=1.0, eps_e=1)\n",
    "        print(f\"K = {K}\")\n",
    "        print(f\"Ne = {sync.Ne(lsq[0][0], p=p_electron, gamma_max=10000.0, gamma_min=1.0, eps_e=1)}\")\n",
    "        print(f\"vol = {vol}\")\n",
    "        n = (K / (p_electron - 1))\n",
    "        gamma_per_e = K/((p_electron - 2.) * n)\n",
    "        print(f\"n = {n}\")\n",
    "        print(f\"Mean gamma per e {gamma_per_e}\")\n",
    "        E_per_e = (gamma_per_e * const.m_e * const.c**2).to(\"erg\")\n",
    "        print(f\"Mean E per e: {E_per_e}\")\n",
    "        print(f\"Energy Density = {e_erg / vol}\")\n",
    "        print(f\"e density = {e_erg / vol / E_per_e}\")\n",
    "        print(f\"N_electrons = {e_erg / E_per_e}\")\n",
    "        \n",
    "#         print(f\"E per e = {const.m_e * const.c**2 * }\")\n",
    "\n",
    "        lbl = sjoert.simtime.mjdtodate(np.mean(data_rec['mjd'][it])).strftime('%y/%m/%d')\n",
    "        line = plt.errorbar(nu, Fnu,Fnu_err, fmt='o', label=lbl, zorder=10-i, alpha=0.8)\n",
    "        # ii = it * (data_rec['eflux_mJy']<0)\n",
    "        # plt.errorbar(data_rec[ii]['nu_GHz'], data_rec[ii]['flux_mJy'], fmt='v', zorder=10-i, alpha=0.8, color=line[0].get_color())\n",
    "\n",
    "        #plot single-comp model\n",
    "        xx = np.logspace(9,10.5, 100)\n",
    "        plt.plot(xx/1e9, fit_single(xx, lsq[0])*1e23*1e3,  '--',alpha=0.7, color=line[0].get_color()) #label=ll1\n",
    "        ll1=''\t\t\n",
    "\n",
    "        print ('chi2:', sum(lsq[2]['fvec']**2)/(sum(ii)-len(p0)))\n",
    "        print ('cooling time at 16 GHz (day)', sync.cooling_extra(lsq[0][0], 16e9)/3600/24)\n",
    "        #print ('cooling time at 16*(t-300) GHz (day)', sync.cooling_extra(lsq[0][0], 16e9*np.clip(300-t,1,300))/3600/24)\n",
    "        plt.pause(0.01)\n",
    "\n",
    "\n",
    "#R0 = 1e15\n",
    "#p0 = [np.log10(0.9*1e16/R0), 60, 0.6, -1.00, 5/3., 2.0]\n",
    "\n",
    "plt.legend()\n",
    "\n",
    "plt.xlim(1.0,25) \n",
    "plt.ylim(0.02, 2)\n",
    "plt.yscale('log')\n",
    "plt.xscale('log')\n",
    "\n",
    "for i in [1,2,3]:\n",
    "    print (mjd_plot[i]-mjd_plot[0], 'v/c from R_eq     (spherical emitting region):', (R_single[i,0]-R_single[i-1,0]) / ((mjd_plot[i]-mjd_plot[i-1])*3600*24) / 3e10) \n",
    "print ('v/c for neutrino  (spherical emitting region):', (R_single[3,0]-1e15) / ((5)*3600*24) / 3e10) \n",
    "\n",
    "plt.xlabel('Frequency (Ghz)')\n",
    "plt.ylabel('Flux (mJy)')\n",
    "plt.legend()\n",
    "plt.show()\n",
    "plt.pause(0.01)\n",
    "\n",
    "plt.savefig('./plots/at2019dsg_radio_singlefit.pdf')"
   ]
  },
  {
   "cell_type": "code",
   "execution_count": 5,
   "metadata": {},
   "outputs": [
    {
     "name": "stdout",
     "output_type": "stream",
     "text": [
      "writing:\n",
      " ./data/at2019dsg_RB_fit_p3.0.dat\n"
     ]
    },
    {
     "data": {
      "image/png": "[encoded data removed]",
      "text/plain": [
       "<Figure size 432x288 with 1 Axes>"
      ]
     },
     "metadata": {
      "needs_background": "light"
     },
     "output_type": "display_data"
    }
   ],
   "source": [
    "plt.clf()\n",
    "idx = R_single[:,0]>0\n",
    "\n",
    "plt.errorbar(R_single[idx,0], B_single[idx,0],xerr=R_single[idx,1],yerr=B_single[idx,1], fmt='s')\n",
    "plt.plot(R_single[:,0], B_single[2,0]*(R_single[:,0]/R_single[2,0])**(-1),'--',label=r'$B\\propto 1/R$')\n",
    "plt.legend()\n",
    "#plt.errorbar(mjd_plot[idx]-mjd_plot[1], R_single[idx,0],yerr=R_single[idx,1],  fmt='s')\n",
    "plt.yscale('log')\n",
    "plt.xscale('log')\n",
    "plt.xlabel('R (cm)')\n",
    "plt.ylabel('B (G)')\n",
    "plt.savefig('./plots/at2019dsg_RB.pdf')\n",
    "\n",
    "fname = './data/at2019dsg_RB_fit_p{0:0.1f}.dat'.format(p_electron_single)\n",
    "sjoert.io.writecols(cols=[mjd_plot, R_single[:,0],R_single[:,1], B_single[:,0], B_single[:,1], E_single[:,0], E_single[:,1]],\n",
    "    filename=fname,\n",
    "    names=[\"MJD\", 'R_cm', 'eR_cm', 'B_Gauss', 'eB_Gauss', \"E_erg\", \"eE_erg\"], delimiter=',')\n",
    "\n",
    "astropy.io.ascii.write([mjd_plot, R_single[:,0]/10.**16,R_single[:,1]/10.**16, B_single[:,0], B_single[:,1], E_single[:,0]/10**48, E_single[:,1]/10**48],\n",
    "    fname, names=[\"MJD\", 'R_cm_16', 'eR_cm_16', 'B_Gauss', 'eB_Gauss', \"E_erg_48\", \"eE_erg_48\"],\n",
    "    formats={\"MJD\": \"0.0f\", 'R_cm_16':'0.2f','eR_cm_16':'0.2f','B_Gauss':'0.2f', 'eB_Gauss':'0.2f', 'E_erg_48':'0.2f', 'eE_erg_48':'0.2f'}, \n",
    "    overwrite=True)\n",
    "\n",
    "\n",
    "\n",
    "# ii = argsort(vla0['DeltaT'])\n",
    "# print vla0[ii]['DeltaT']\n",
    "# lsq_all = leastsq(res_sumtime, p0, (vla0[ii]['nu']*1e9, vla0[ii]['DeltaT'], vla0[ii]['Fnu']-VLA_sub[ii], vla0[ii]['Fnu_err']), full_output=True)\n",
    "# print lsq_all[0]"
   ]
  },
  {
   "cell_type": "code",
   "execution_count": 6,
   "metadata": {
    "scrolled": true
   },
   "outputs": [
    {
     "name": "stdout",
     "output_type": "stream",
     "text": [
      "Start date: 26.248983988072723\n"
     ]
    },
    {
     "data": {
      "text/plain": [
       "Text(0.5, 0, 'Time Since Discovery (days)')"
      ]
     },
     "execution_count": 6,
     "metadata": {},
     "output_type": "execute_result"
    },
    {
     "data": {
      "image/png": "[encoded data removed]",
      "text/plain": [
       "<Figure size 432x288 with 1 Axes>"
      ]
     },
     "metadata": {
      "needs_background": "light"
     },
     "output_type": "display_data"
    }
   ],
   "source": [
    "grad = (E_single.T[0][-2] - E_single.T[0][0])/(mjd_plot[-2] - mjd_plot[0])\n",
    "c = E_single.T[0][-2] - grad * (mjd_plot[-2])\n",
    "\n",
    "def fit_e(t):\n",
    "    return grad*t + c\n",
    "\n",
    "start = -c/grad - bran_disc.mjd\n",
    "\n",
    "print(f\"Start date: {start}\")\n",
    "\n",
    "x_range = np.linspace(start, mjd_plot[-1] - bran_disc.mjd, 100)\n",
    "\n",
    "plt.figure()\n",
    "plt.errorbar(np.array(mjd_plot) - bran_disc.mjd, E_single.T[0], yerr=E_single.T[1], fmt=\" \", marker=\"o\")\n",
    "plt.plot(x_range, fit_e(x_range + bran_disc.mjd))\n",
    "plt.ylabel(r\"$E_{eq}$ [erg]\")\n",
    "plt.xlabel(\"Time Since Discovery (days)\")"
   ]
  },
  {
   "cell_type": "code",
   "execution_count": 7,
   "metadata": {},
   "outputs": [],
   "source": [
    "from pylatex import Document, Section, Subsection, Command, Tabular\n",
    "from pylatex.utils import italic, NoEscape\n",
    "\n",
    "def fill_document(doc, df, headings):\n",
    "    \"\"\"Add a section, a subsection and some text to the document.\n",
    "\n",
    "    :param doc: the document\n",
    "    :type doc: :class:`pylatex.document.Document` instance\n",
    "    \"\"\"\n",
    "    with doc.create(Section('A section')):\n",
    "        doc.append('Some regular text and some ')\n",
    "        doc.append(italic('italic text. '))\n",
    "\n",
    "        with doc.create(Subsection('A subsection')):\n",
    "            doc.append('Also some crazy characters: $&#{}')\n",
    "            \n",
    "            with doc.create(Subsection('Table of something')):\n",
    "                with doc.create(Tabular('|' + \"\".join([\"c|\" for _ in headings]))) as table:\n",
    "                    table.add_hline()\n",
    "                    table.add_row(tuple([NoEscape(r\"\\textbf{\" + x + \"}\") for x in headings]))\n",
    "                    table.add_hline()\n",
    "                    for _, row in df.iterrows():\n",
    "                        entry = tuple([x for x in row])\n",
    "                        table.add_row(entry)\n",
    "                    table.add_hline()\n"
   ]
  },
  {
   "cell_type": "code",
   "execution_count": 8,
   "metadata": {
    "scrolled": true
   },
   "outputs": [
    {
     "name": "stdout",
     "output_type": "stream",
     "text": [
      "\\documentclass{article}%\n",
      "\\usepackage[T1]{fontenc}%\n",
      "\\usepackage[utf8]{inputenc}%\n",
      "\\usepackage{lmodern}%\n",
      "\\usepackage{textcomp}%\n",
      "\\usepackage{lastpage}%\n",
      "%\n",
      "%\n",
      "%\n",
      "\\begin{document}%\n",
      "\\normalsize%\n",
      "\\section{A section}%\n",
      "\\label{sec:Asection}%\n",
      "Some regular text and some %\n",
      "\\textit{italic text. }%\n",
      "\\subsection{A subsection}%\n",
      "\\label{subsec:Asubsection}%\n",
      "Also some crazy characters: \\$\\&\\#\\{\\}%\n",
      "\\subsection{Table of something}%\n",
      "\\label{subsec:Tableofsomething}%\n",
      "\\begin{tabular}{|c|c|c|c|c|c|c|}%\n",
      "\\hline%\n",
      "\\textbf{Observation Date}&\\textbf{$R_{eq} (10^{16}$ cm)}&\\textbf{$\\sigma_{R} (10^{16}$ cm)}&\\textbf{$B_{eq}$ (Gauss)}&\\textbf{$\\sigma_{B}$ (Gauss)}&\\textbf{$E_{eq} (10^{48}$ erg)}&\\textbf{$\\sigma_{E} (10^{48}$ erg)}\\\\%\n",
      "\\hline%\n",
      "2019{-}05{-}22&1.33&0.05&1.0&0.06&0.39&0.06\\\\%\n",
      "2019{-}06{-}19&2.22&0.05&0.73&0.02&0.97&0.09\\\\%\n",
      "2019{-}08{-}08&3.59&0.09&0.55&0.01&2.32&0.22\\\\%\n",
      "2019{-}10{-}05&6.12&0.16&0.33&0.01&4.15&0.38\\\\%\n",
      "\\hline%\n",
      "\\end{tabular}\n",
      "\n",
      "%\n",
      "\\section{A second section}%\n",
      "\\label{sec:Asecondsection}%\n",
      "Some text.\n",
      "\n",
      "%\n",
      "\\end{document}\n"
     ]
    }
   ],
   "source": [
    "df = pd.read_table(fname, sep=\" \")\n",
    "df[\"MJD\"] = ts\n",
    "\n",
    "# df[\"R_cm\"] /= 10.**16.\n",
    "# # df[\"eR_cm\"] /= 10.**16.\n",
    "# df[\"E_erg\"] /= 10.**48.\n",
    "# df[\"eE_erg\"] /= 10.**48.\n",
    "\n",
    "col_headings = [\n",
    "    \"Observation Date\",\n",
    "    r\"$R_{eq} (10^{16}$ cm)\",\n",
    "    r\"$\\sigma_{R} (10^{16}$ cm)\",\n",
    "    r\"$B_{eq}$ (Gauss)\",\n",
    "    r\"$\\sigma_{B}$ (Gauss)\",\n",
    "    r\"$E_{eq} (10^{48}$ erg)\",\n",
    "    r\"$\\sigma_{E} (10^{48}$ erg)\"\n",
    "]\n",
    "\n",
    "\n",
    "# if __name__ == '__main__':\n",
    "# Basic document\n",
    "doc = Document('basic')\n",
    "\n",
    "fill_document(doc, df, col_headings)\n",
    "\n",
    "# Add stuff to the document\n",
    "with doc.create(Section('A second section')):\n",
    "    doc.append('Some text.')\n",
    "\n",
    "tex = doc.dumps()  # The document as string in LaTeX syntax\n",
    "print(tex)"
   ]
  },
  {
   "cell_type": "code",
   "execution_count": null,
   "metadata": {},
   "outputs": [],
   "source": []
  },
  {
   "cell_type": "code",
   "execution_count": null,
   "metadata": {},
   "outputs": [],
   "source": []
  },
  {
   "cell_type": "code",
   "execution_count": 9,
   "metadata": {},
   "outputs": [
    {
     "name": "stdout",
     "output_type": "stream",
     "text": [
      "7.261835039013887e+26 cm\n",
      "0.00017846728726792846 cm / cm\n"
     ]
    }
   ],
   "source": [
    "dl = Distance(z=bran_z).to(\"cm\")\n",
    "frac = 10**17 * u.cm/dl\n",
    "print(dl)\n",
    "print(frac*60*60*360)"
   ]
  },
  {
   "cell_type": "code",
   "execution_count": null,
   "metadata": {},
   "outputs": [],
   "source": []
  }
 ],
 "metadata": {
  "kernelspec": {
   "display_name": "bran_stark_paper",
   "language": "python",
   "name": "bran_stark_paper"
  },
  "language_info": {
   "codemirror_mode": {
    "name": "ipython",
    "version": 3
   },
   "file_extension": ".py",
   "mimetype": "text/x-python",
   "name": "python",
   "nbconvert_exporter": "python",
   "pygments_lexer": "ipython3",
   "version": "3.8.0"
  }
 },
 "nbformat": 4,
 "nbformat_minor": 4
}
