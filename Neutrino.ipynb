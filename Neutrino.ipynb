{
 "cells": [
  {
   "cell_type": "code",
   "execution_count": 3,
   "metadata": {},
   "outputs": [],
   "source": [
    "from flux_utils import flux_conversion\n",
    "from astropy import units as u\n",
    "import numpy as np"
   ]
  },
  {
   "cell_type": "code",
   "execution_count": 4,
   "metadata": {},
   "outputs": [],
   "source": [
    "x = [200 * 10**12, 10*10.**15]\n",
    "ul_txs_6_month_flux = 5. * 10 **-11. * u.erg / (u.cm**2 * u.s)\n",
    "ul_txs_6_month = ul_txs_6_month_flux /(flux_conversion/u.cm**2)\n",
    "ratio_ehe_alert = (6.6 + 2.8) / 2.1 # ICRC REALTIME PAPER RATIO GOLD TO EHE\n",
    "ul_6_month_alert = ul_txs_6_month / ratio_ehe_alert"
   ]
  },
  {
   "cell_type": "code",
   "execution_count": 7,
   "metadata": {},
   "outputs": [
    {
     "name": "stdout",
     "output_type": "stream",
     "text": [
      "0.0007889399999999999 erg\n"
     ]
    }
   ],
   "source": [
    "print(ul_txs_6_month * flux_conversion * (0.5 * u.year).to(\"s\"))"
   ]
  },
  {
   "cell_type": "code",
   "execution_count": 8,
   "metadata": {},
   "outputs": [
    {
     "name": "stdout",
     "output_type": "stream",
     "text": [
      "4.476190476190475\n"
     ]
    }
   ],
   "source": [
    "print(ratio_ehe_alert)"
   ]
  },
  {
   "cell_type": "code",
   "execution_count": 12,
   "metadata": {},
   "outputs": [
    {
     "name": "stdout",
     "output_type": "stream",
     "text": [
      "1.1679870814766889e+51 erg\n"
     ]
    }
   ],
   "source": [
    "print(ul_6_month_alert*(0.5 * u.year).to(\"s\"))"
   ]
  },
  {
   "cell_type": "code",
   "execution_count": 6,
   "metadata": {},
   "outputs": [],
   "source": [
    "ul_e = ul_6_month_alert * (0.5 * u.year).to(\"s\")"
   ]
  },
  {
   "cell_type": "code",
   "execution_count": 7,
   "metadata": {},
   "outputs": [
    {
     "name": "stdout",
     "output_type": "stream",
     "text": [
      "1.1679870814766889e+51 erg\n"
     ]
    }
   ],
   "source": [
    "print(ul_e)"
   ]
  },
  {
   "cell_type": "code",
   "execution_count": null,
   "metadata": {},
   "outputs": [],
   "source": []
  }
 ],
 "metadata": {
  "kernelspec": {
   "display_name": "bran_stark_paper",
   "language": "python",
   "name": "bran_stark_paper"
  },
  "language_info": {
   "codemirror_mode": {
    "name": "ipython",
    "version": 3
   },
   "file_extension": ".py",
   "mimetype": "text/x-python",
   "name": "python",
   "nbconvert_exporter": "python",
   "pygments_lexer": "ipython3",
   "version": "3.8.0"
  }
 },
 "nbformat": 4,
 "nbformat_minor": 4
}
