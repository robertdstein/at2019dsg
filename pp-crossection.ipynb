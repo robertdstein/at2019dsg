{
 "cells": [
  {
   "cell_type": "code",
   "execution_count": 1,
   "metadata": {},
   "outputs": [],
   "source": [
    "from astropy import constants as const\n",
    "from astropy import units as u\n",
    "import numpy as np"
   ]
  },
  {
   "cell_type": "code",
   "execution_count": 8,
   "metadata": {},
   "outputs": [
    {
     "name": "stdout",
     "output_type": "stream",
     "text": [
      "optical depth - pp =  10244.81665143766\n",
      "optical depth - xe =  171600.67891158082\n",
      "optical depth - pg: 10231.643391785161 cm3 W / (J m2)\n",
      "Optical lum: 1.123987831050666e+43 erg / s\n",
      "Number of photons: 1.822545278971486e+58 cm2 W / (J m2)\n",
      "photon density: 3.6541583542089864e+16 W / (J m2)\n",
      "Temperature: 44668.359215096345 K\n"
     ]
    }
   ],
   "source": [
    "#Cross section\n",
    "\n",
    "xsec_pp = 4e-26 * u.cm **2# proton-prorton x-section in cm^-2\n",
    "xsec_pg = 4e-28 * u.cm **2# proton-gamma at delta resonance\n",
    "xsec_xe = 6.7e-25 * u.cm**2 # x-rays - electrons \n",
    "\n",
    "\n",
    "r_0=7e14 * u.cm\n",
    "r_bb = pow(10,14.1) * u.cm\n",
    "t_bb = pow(10,4.65) * u.K\n",
    "e_g = 2.7 * const.k_B * t_bb \n",
    "\n",
    "r_dens = 1e17 *u.cm# normalization for density\n",
    "g_dens = -2.5 # power law index for radius scaling r^g_dens\n",
    "dens_nt = 5 * 10 ** 4 * 100 /(u.cm**3)# cm^-3 @ r_dens cm\n",
    "# dens = dens_nt * 100.\n",
    "dens = 10 ** 9. / (u.cm**3)\n",
    "# dens = dens_nt \n",
    "\n",
    "\n",
    "column_density = dens* r_dens * -1 * (g_dens+1) * pow(r_0/r_dens,g_dens+1)\n",
    "\n",
    "optical_lumi = const.sigma_sb * np.pi * pow(r_bb,2) * pow(t_bb,4)\n",
    "photon_density = optical_lumi/e_g/4/np.pi/pow(r_0,2)/3e10\n",
    "\n",
    "print(\"optical depth - pp = \",column_density * xsec_pp)\n",
    "print(\"optical depth - xe = \",column_density * xsec_xe)\n",
    "print(\"optical depth - pg:\",photon_density*xsec_pg*r_0) \n",
    "print(f\"Optical lum: {optical_lumi.to('erg s-1')}\")\n",
    "print(\"Number of photons:\",optical_lumi/const.k_B/t_bb) \n",
    "print(\"photon density:\",photon_density) \n",
    "print(\"Temperature:\",t_bb)"
   ]
  },
  {
   "cell_type": "code",
   "execution_count": 9,
   "metadata": {},
   "outputs": [],
   "source": [
    "# dens = 5 * 10 ** 4 * 100 /(u.cm**3)"
   ]
  },
  {
   "cell_type": "code",
   "execution_count": 14,
   "metadata": {},
   "outputs": [
    {
     "name": "stdout",
     "output_type": "stream",
     "text": [
      "4.144330939392e+16 cm\n",
      "Column density: 4.0, 2.561204162859415e+29 1 / cm2, 10244.81665143766\n"
     ]
    }
   ],
   "source": [
    "integrated_path = r_dens * dens\n",
    "\n",
    "path = (0.2 * const.c * 80 * u.day).to(\"cm\")\n",
    "print(path)\n",
    "\n",
    "print(f\"Column density: {integrated_path * xsec_pp}, {column_density}, {column_density * xsec_pp}\")"
   ]
  },
  {
   "cell_type": "code",
   "execution_count": null,
   "metadata": {},
   "outputs": [],
   "source": []
  }
 ],
 "metadata": {
  "kernelspec": {
   "display_name": "bran_stark_paper",
   "language": "python",
   "name": "bran_stark_paper"
  },
  "language_info": {
   "codemirror_mode": {
    "name": "ipython",
    "version": 3
   },
   "file_extension": ".py",
   "mimetype": "text/x-python",
   "name": "python",
   "nbconvert_exporter": "python",
   "pygments_lexer": "ipython3",
   "version": "3.8.0"
  }
 },
 "nbformat": 4,
 "nbformat_minor": 4
}
