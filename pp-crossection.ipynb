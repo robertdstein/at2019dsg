{
 "cells": [
  {
   "cell_type": "code",
   "execution_count": 1,
   "metadata": {},
   "outputs": [],
   "source": [
    "from astropy import constants as const\n",
    "from astropy import units as u\n",
    "import numpy as np"
   ]
  },
  {
   "cell_type": "code",
   "execution_count": 2,
   "metadata": {},
   "outputs": [
    {
     "name": "stdout",
     "output_type": "stream",
     "text": [
      "optical depth - pg: 10231.643391785161 cm3 W / (J m2)\n",
      "Optical lum: 1.123987831050666e+43 erg / s\n",
      "Number of photons: 1.822545278971486e+58 cm2 W / (J m2)\n",
      "photon density: 3.6541583542089864e+16 W / (J m2)\n",
      "Temperature: 44668.359215096345 K\n"
     ]
    }
   ],
   "source": [
    "#Cross section\n",
    "\n",
    "xsec_pp = 4e-26 * u.cm **2# proton-prorton x-section in cm^-2\n",
    "xsec_pg = 4e-28 * u.cm **2# proton-gamma at delta resonance\n",
    "xsec_xe = 6.7e-25 * u.cm**2 # x-rays - electrons \n",
    "\n",
    "\n",
    "r_0=7e14 * u.cm\n",
    "r_bb = pow(10,14.1) * u.cm\n",
    "t_bb = pow(10,4.65) * u.K\n",
    "e_g = 2.7 * const.k_B * t_bb \n",
    "\n",
    "r_dens = (10.**16.860) *u.cm# normalization for density\n",
    "dens_nt = 5 * 10 ** 4 * 100 /(u.cm**3)# cm^-3 @ r_dens cm\n",
    "# dens = dens_nt * 100.\n",
    "dens = 10 ** 7. / (u.cm**3)\n",
    "# dens = dens_nt \n",
    "\n",
    "\n",
    "# column_density = dens* r_dens * -1 * (g_dens+1) * pow(r_0/r_dens,g_dens+1)\n",
    "\n",
    "optical_lumi = const.sigma_sb * np.pi * pow(r_bb,2) * pow(t_bb,4)\n",
    "photon_density = optical_lumi/e_g/4/np.pi/pow(r_0,2)/3e10\n",
    "\n",
    "# print(\"optical depth - pp = \",column_density * xsec_pp)\n",
    "# print(\"optical depth - xe = \",column_density * xsec_xe)\n",
    "print(\"optical depth - pg:\",photon_density*xsec_pg*r_0) \n",
    "print(f\"Optical lum: {optical_lumi.to('erg s-1')}\")\n",
    "print(\"Number of photons:\",optical_lumi/const.k_B/t_bb) \n",
    "print(\"photon density:\",photon_density) \n",
    "print(\"Temperature:\",t_bb)"
   ]
  },
  {
   "cell_type": "code",
   "execution_count": 3,
   "metadata": {},
   "outputs": [],
   "source": [
    "# dens = 5 * 10 ** 4 * 100 /(u.cm**3)"
   ]
  },
  {
   "cell_type": "code",
   "execution_count": 4,
   "metadata": {},
   "outputs": [
    {
     "name": "stdout",
     "output_type": "stream",
     "text": [
      "7.244359600749891e+23 1 / cm2 2.59020683712e+17 cm\n",
      "Optical Depth: 0.028977438402999565\n"
     ]
    }
   ],
   "source": [
    "integrated_path = r_dens * dens\n",
    "\n",
    "path = (const.c * 100 * u.day).to(\"cm\")\n",
    "print(integrated_path, path)\n",
    "\n",
    "print(f\"Optical Depth: {integrated_path * xsec_pp}\")"
   ]
  },
  {
   "cell_type": "code",
   "execution_count": null,
   "metadata": {},
   "outputs": [],
   "source": []
  },
  {
   "cell_type": "code",
   "execution_count": 11,
   "metadata": {},
   "outputs": [],
   "source": [
    "n_p = 1. / (xsec_pp * 7 * 10**16 * u.cm)"
   ]
  },
  {
   "cell_type": "code",
   "execution_count": 12,
   "metadata": {},
   "outputs": [
    {
     "name": "stdout",
     "output_type": "stream",
     "text": [
      "3.6e+08 1 / cm3\n"
     ]
    }
   ],
   "source": [
    "print(f\"{n_p:.2g}\")"
   ]
  },
  {
   "cell_type": "code",
   "execution_count": null,
   "metadata": {},
   "outputs": [],
   "source": []
  }
 ],
 "metadata": {
  "kernelspec": {
   "display_name": "bran_stark_paper",
   "language": "python",
   "name": "bran_stark_paper"
  },
  "language_info": {
   "codemirror_mode": {
    "name": "ipython",
    "version": 3
   },
   "file_extension": ".py",
   "mimetype": "text/x-python",
   "name": "python",
   "nbconvert_exporter": "python",
   "pygments_lexer": "ipython3",
   "version": "3.8.0"
  }
 },
 "nbformat": 4,
 "nbformat_minor": 4
}
