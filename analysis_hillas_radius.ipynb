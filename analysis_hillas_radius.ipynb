{
 "cells": [
  {
   "cell_type": "markdown",
   "metadata": {},
   "source": [
    "$$\\frac{E_{max}}{PeV} \\approx \\frac{B}{10^{-6}Gauss} \\times \\frac{R}{pc} \\times \\frac{\\beta Z} {2}$$\n",
    "\n",
    "$$\\frac{E_{max}}{PeV} \\approx \\frac{B}{10^{-6}Gauss} \\times \\frac{R}{3.1 \\times 10^{18} cm} \\times \\frac{\\beta Z}{2}$$\n",
    "\n",
    "$$\\frac{E_{max}}{PeV} \\approx \\frac{1}{6.2 \\times 10^{2} \\times 10^{-6}}\\frac{B}{Gauss} \\times \\frac{R}{10^{16} cm} \\times \\beta Z$$\n",
    "$$\\frac{E_{max}}{PeV} \\approx 1600 \\times \\frac{B}{Gauss} \\times \\frac{R}{10^{16} cm} \\times \\beta Z $$\n",
    "\n",
    "$$ E_{max} \\approx 1600 \\times 0.6 \\times 5 \\times \\beta 1 PeV = 4870 PeV $$"
   ]
  },
  {
   "cell_type": "code",
   "execution_count": null,
   "metadata": {},
   "outputs": [],
   "source": []
  }
 ],
 "metadata": {
  "kernelspec": {
   "display_name": "bran_stark_paper",
   "language": "python",
   "name": "bran_stark_paper"
  },
  "language_info": {
   "codemirror_mode": {
    "name": "ipython",
    "version": 3
   },
   "file_extension": ".py",
   "mimetype": "text/x-python",
   "name": "python",
   "nbconvert_exporter": "python",
   "pygments_lexer": "ipython3",
   "version": "3.8.0"
  }
 },
 "nbformat": 4,
 "nbformat_minor": 4
}
