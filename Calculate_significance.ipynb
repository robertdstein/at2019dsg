{
 "cells": [
  {
   "cell_type": "code",
   "execution_count": 1,
   "metadata": {},
   "outputs": [],
   "source": [
    "from IPython.display import display, Markdown\n",
    "import numpy as np"
   ]
  },
  {
   "cell_type": "code",
   "execution_count": 2,
   "metadata": {},
   "outputs": [
    {
     "name": "stdout",
     "output_type": "stream",
     "text": [
      "Summed signalness is 4.48 astrophysical neutrinos\n"
     ]
    }
   ],
   "source": [
    "n_astro = 0.36 + 0.55 + 0.67 + 0.51 + 0.59 + 0.65 + 0.77 + 0.38\n",
    "print(f\"Summed signalness is {n_astro:.2f} astrophysical neutrinos\")"
   ]
  },
  {
   "cell_type": "code",
   "execution_count": 3,
   "metadata": {},
   "outputs": [
    {
     "name": "stdout",
     "output_type": "stream",
     "text": [
      "Summed ZTF area is 81.05 sq.deg.\n"
     ]
    }
   ],
   "source": [
    "area_ztf = 1.37 + 21.57 + 4.52 + 4.09 + 20.56 + 6.22 + 20.06 + 2.66\n",
    "print(f\"Summed ZTF area is {area_ztf:.2f} sq.deg.\")"
   ]
  },
  {
   "cell_type": "code",
   "execution_count": 75,
   "metadata": {},
   "outputs": [
    {
     "name": "stdout",
     "output_type": "stream",
     "text": [
      "ZTF can access 33000.00 sq. deg of sky over a year.\n",
      "ZTF found 17.0 TDEs in 1.5 years in 33000 sq. deg, giving 0.00034 new TDEs per sq. deg per year\n",
      "We assume that each TDE is visible for an average of 0.5 years, giving a detection rate of 0.00017 observed TDEs per sq deg at any one time.\n",
      "Given a TDE rate of 0.00017 per sq. deg in ZTF and a radio-loud fraction 0.20, we expect 0.0028 across all observed neutrinos\n"
     ]
    }
   ],
   "source": [
    "ztf_n_tde = 17.\n",
    "night_sky = 44000.\n",
    "\n",
    "# ZTF can observe between -30 deg and +90 deg\n",
    "\n",
    "frac_ztf = (np.sin(np.radians(90)) - np.sin(np.radians(-30))) / 2.\n",
    "\n",
    "ztf_sky = night_sky * frac_ztf\n",
    "\n",
    "print(f\"ZTF can access {ztf_sky:.2f} sq. deg of sky over a year.\")\n",
    "\n",
    "ztf_tde_disc_rate = ztf_n_tde / 1.5 / ztf_sky\n",
    "\n",
    "print(f\"ZTF found {ztf_n_tde} TDEs in 1.5 years in 33000 sq. deg, giving {ztf_tde_disc_rate:.2g} new TDEs per sq. deg per year\")\n",
    "\n",
    "n_year = 0.5\n",
    "\n",
    "ztf_tde_rate = ztf_tde_disc_rate * n_year\n",
    "\n",
    "print(f\"We assume that each TDE is visible for an average of {n_year} years, giving a detection rate of {ztf_tde_rate:.2g} observed TDEs per sq deg at any one time.\")\n",
    "\n",
    "frac_rl = 2./10.\n",
    "\n",
    "ztf_expectation = ztf_tde_rate * frac_rl * area_ztf\n",
    "print(f\"Given a TDE rate of {ztf_tde_rate:.2g} per sq. deg in ZTF and a radio-loud fraction {frac_rl:.2f}, we expect {ztf_expectation:.2g} across all observed neutrinos\")"
   ]
  },
  {
   "cell_type": "code",
   "execution_count": 76,
   "metadata": {},
   "outputs": [],
   "source": [
    "from scipy.stats import poisson, norm"
   ]
  },
  {
   "cell_type": "code",
   "execution_count": 78,
   "metadata": {},
   "outputs": [
    {
     "name": "stdout",
     "output_type": "stream",
     "text": [
      "p-value: 0.0028\n"
     ]
    },
    {
     "data": {
      "text/markdown": [
       "Corresponds to: 2.88 $\\sigma$"
      ],
      "text/plain": [
       "<IPython.core.display.Markdown object>"
      ]
     },
     "metadata": {},
     "output_type": "display_data"
    }
   ],
   "source": [
    "pdf = poisson(ztf_expectation)\n",
    "\n",
    "p_value = pdf.sf(0)\n",
    "\n",
    "sigma = norm.ppf(1. - p_value)\n",
    "\n",
    "print(f\"p-value: {p_value:.2g}\")\n",
    "display(Markdown((rf\"Corresponds to: {sigma:.2f} $\\sigma$\")))"
   ]
  },
  {
   "cell_type": "code",
   "execution_count": null,
   "metadata": {},
   "outputs": [],
   "source": []
  }
 ],
 "metadata": {
  "kernelspec": {
   "display_name": "bran_stark_paper",
   "language": "python",
   "name": "bran_stark_paper"
  },
  "language_info": {
   "codemirror_mode": {
    "name": "ipython",
    "version": 3
   },
   "file_extension": ".py",
   "mimetype": "text/x-python",
   "name": "python",
   "nbconvert_exporter": "python",
   "pygments_lexer": "ipython3",
   "version": "3.8.0"
  }
 },
 "nbformat": 4,
 "nbformat_minor": 4
}
